{
 "cells": [
  {
   "cell_type": "code",
   "execution_count": 1,
   "metadata": {},
   "outputs": [
    {
     "data": {
      "text/html": [
       "<div>\n",
       "<style scoped>\n",
       "    .dataframe tbody tr th:only-of-type {\n",
       "        vertical-align: middle;\n",
       "    }\n",
       "\n",
       "    .dataframe tbody tr th {\n",
       "        vertical-align: top;\n",
       "    }\n",
       "\n",
       "    .dataframe thead th {\n",
       "        text-align: right;\n",
       "    }\n",
       "</style>\n",
       "<table border=\"1\" class=\"dataframe\">\n",
       "  <thead>\n",
       "    <tr style=\"text-align: right;\">\n",
       "      <th></th>\n",
       "      <th>reasoning_length</th>\n",
       "    </tr>\n",
       "  </thead>\n",
       "  <tbody>\n",
       "    <tr>\n",
       "      <th>count</th>\n",
       "      <td>100.000000</td>\n",
       "    </tr>\n",
       "    <tr>\n",
       "      <th>mean</th>\n",
       "      <td>6044.240000</td>\n",
       "    </tr>\n",
       "    <tr>\n",
       "      <th>std</th>\n",
       "      <td>4205.134205</td>\n",
       "    </tr>\n",
       "    <tr>\n",
       "      <th>min</th>\n",
       "      <td>609.000000</td>\n",
       "    </tr>\n",
       "    <tr>\n",
       "      <th>25%</th>\n",
       "      <td>2673.750000</td>\n",
       "    </tr>\n",
       "    <tr>\n",
       "      <th>50%</th>\n",
       "      <td>5659.500000</td>\n",
       "    </tr>\n",
       "    <tr>\n",
       "      <th>75%</th>\n",
       "      <td>8985.000000</td>\n",
       "    </tr>\n",
       "    <tr>\n",
       "      <th>max</th>\n",
       "      <td>16384.000000</td>\n",
       "    </tr>\n",
       "  </tbody>\n",
       "</table>\n",
       "</div>"
      ],
      "text/plain": [
       "       reasoning_length\n",
       "count        100.000000\n",
       "mean        6044.240000\n",
       "std         4205.134205\n",
       "min          609.000000\n",
       "25%         2673.750000\n",
       "50%         5659.500000\n",
       "75%         8985.000000\n",
       "max        16384.000000"
      ]
     },
     "execution_count": 1,
     "metadata": {},
     "output_type": "execute_result"
    }
   ],
   "source": [
    "import json\n",
    "import pandas as pd\n",
    "with open(\"problems_with_embeddings.json\",\"r\",encoding='utf-8') as file:\n",
    "    data = json.load(file)\n",
    "\n",
    "reasoning_lengths = [item['reasoning_length'] for item in data][400:500]\n",
    "problems  = [item['problem'] for item in data][400:500]\n",
    "df = pd.DataFrame(reasoning_lengths, columns=[\"reasoning_length\"])\n",
    "df.describe()"
   ]
  },
  {
   "cell_type": "code",
   "execution_count": 3,
   "metadata": {},
   "outputs": [
    {
     "name": "stdout",
     "output_type": "stream",
     "text": [
      "hi\n"
     ]
    }
   ],
   "source": [
    "import openai\n",
    "from openai import OpenAI\n",
    "from pl_tools import pl_prompt\n",
    "\n",
    "output_data = []\n",
    "flag=1\n",
    "client = OpenAI(\n",
    "    api_key=\"sk-jzamerxaovvufrqtwcwoiudvezbxczqlipozheuwqazveznw\",\n",
    "    base_url = \"https://api.siliconflow.cn/\"\n",
    ")\n",
    "for pro,reasoning_length in zip(problems,reasoning_lengths):\n",
    "    print(\"hi\")\n",
    "    response = client.chat.completions.create(\n",
    "        model=\"Qwen/Qwen2.5-14B-Instruct\", \n",
    "        messages =[{\"role\":\"user\",\"content\": pl_prompt.pl_prompt_0.format(new_problem=pro)}],   \n",
    "        max_tokens=800         # 限制响应的最大token数量\n",
    "    )\n",
    "    \n",
    "    print(response.choices[0].message)\n",
    "    model_output = response.choices[0].message.content\n",
    "    \n",
    "    result = {\n",
    "        \"problem\": pro,\n",
    "        \"reasoning_length\":reasoning_length,\n",
    "        \"model_output\": model_output\n",
    "    }\n",
    "    if flag:\n",
    "        print(result)\n",
    "        flag=0\n",
    "    \n",
    "    output_data.append(result)\n",
    "\n",
    "with open('llm_output_data.json', 'w', encoding='utf-8') as json_file:\n",
    "    json.dump(output_data, json_file, ensure_ascii=False, indent=4)\n",
    "\n",
    "print(\"所有数据已保存到output_data.json\")"
   ]
  },
  {
   "cell_type": "code",
   "execution_count": 2,
   "metadata": {},
   "outputs": [
    {
     "name": "stdout",
     "output_type": "stream",
     "text": [
      "所有数据已保存到output_data.json\n"
     ]
    }
   ],
   "source": [
    "import openai\n",
    "import json\n",
    "import time\n",
    "from concurrent.futures import ThreadPoolExecutor, as_completed\n",
    "from openai import OpenAI\n",
    "from pl_tools import pl_prompt\n",
    "\n",
    "# Retry logic function\n",
    "def call_openai_with_retry(client, pro, reasoning_length, max_retries=3):\n",
    "    retries = 0\n",
    "    while retries < max_retries:\n",
    "        try:\n",
    "            response = client.chat.completions.create(\n",
    "                model=\"deepseek-chat\", \n",
    "                messages=[{\"role\": \"system\", \"content\": \"You are a helpful assistant\"},\n",
    "                          {\"role\": \"user\", \"content\": pl_prompt.pl_prompt_0.format(new_problem=pro)}],   \n",
    "                max_tokens=800,\n",
    "                stream=False\n",
    "            )\n",
    "            model_output = response.choices[0].message.content\n",
    "            result = {\n",
    "                \"problem\": pro,\n",
    "                \"reasoning_length\": reasoning_length,\n",
    "                \"model_output\": model_output\n",
    "            }\n",
    "            return result\n",
    "        except Exception as e:\n",
    "            print(f\"Error on attempt {retries + 1} for problem {pro}: {e}\")\n",
    "            retries += 1\n",
    "            time.sleep(2 ** retries)  # Exponential backoff\n",
    "    return None  # If retries are exhausted\n",
    "\n",
    "# Client initialization\n",
    "client = OpenAI(\n",
    "    api_key=\"sk-1c7bba5338bd45a9af5247e6f1521e5f\",\n",
    "    base_url=\"https://api.deepseek.com\"\n",
    ")\n",
    "\n",
    "# To store the results\n",
    "output_data = []\n",
    "\n",
    "# Create a ThreadPoolExecutor for parallel processing\n",
    "with ThreadPoolExecutor() as executor:\n",
    "    futures = []\n",
    "    \n",
    "    # Iterate through problems and reasoning_lengths to submit tasks\n",
    "    for pro, reasoning_length in zip(problems, reasoning_lengths):\n",
    "        futures.append(executor.submit(call_openai_with_retry, client, pro, reasoning_length))\n",
    "\n",
    "    # Collect results as they are completed\n",
    "    for future in as_completed(futures):\n",
    "        result = future.result()\n",
    "        if result:\n",
    "            output_data.append(result)\n",
    "\n",
    "# Save the output to a JSON file\n",
    "with open('llm_output_data.json', 'w', encoding='utf-8') as json_file:\n",
    "    json.dump(output_data, json_file, ensure_ascii=False, indent=4)\n",
    "\n",
    "print(\"所有数据已保存到output_data.json\")\n"
   ]
  },
  {
   "cell_type": "code",
   "execution_count": 5,
   "metadata": {},
   "outputs": [],
   "source": [
    "import json\n",
    "import sys\n",
    "sys.path.append(r\"D:\\math\\A-reasoning_demo\")\n",
    "from tools.text import extract_box_number\n",
    "with open (\"llm_output_data.json\") as file:\n",
    "    data = json.load(file)\n",
    "\n",
    "pre_l = [extract_box_number(item[\"model_output\"]) for item in data]\n",
    "r_l = [item['reasoning_length'] for item in data]\n"
   ]
  },
  {
   "cell_type": "code",
   "execution_count": 9,
   "metadata": {},
   "outputs": [
    {
     "data": {
      "text/plain": [
       "<matplotlib.collections.PathCollection at 0x20f98c20130>"
      ]
     },
     "execution_count": 9,
     "metadata": {},
     "output_type": "execute_result"
    },
    {
     "data": {
      "image/png": "[encoded data removed]",
      "text/plain": [
       "<Figure size 640x480 with 1 Axes>"
      ]
     },
     "metadata": {},
     "output_type": "display_data"
    }
   ],
   "source": [
    "import matplotlib.pyplot  as plt\n",
    "plt.scatter(r_l,pre_l,alpha=0.8)"
   ]
  },
  {
   "cell_type": "code",
   "execution_count": 14,
   "metadata": {},
   "outputs": [],
   "source": [
    "import json\n",
    "import pandas as pd\n",
    "with open(r\"D:\\math\\A-reasoning_demo\\reasoning_datasets\\HuggingFaceH4\\MATH-500.jsonl\",\"r\",encoding='utf-8') as file:\n",
    "    data = [json.loads(line) for line in file]\n",
    "\n",
    "# reasoning_lengths = [item['reasoning_length'] for item in data][400:500]\n",
    "problems  = [item['problem'] for item in data]\n",
    "# df = pd.DataFrame(reasoning_lengths, columns=[\"reasoning_length\"])\n",
    "# df.describe()"
   ]
  },
  {
   "cell_type": "code",
   "execution_count": 16,
   "metadata": {},
   "outputs": [
    {
     "name": "stdout",
     "output_type": "stream",
     "text": [
      "150\n"
     ]
    }
   ],
   "source": [
    "print(len(problems))"
   ]
  },
  {
   "cell_type": "code",
   "execution_count": 17,
   "metadata": {},
   "outputs": [
    {
     "name": "stdout",
     "output_type": "stream",
     "text": [
      "所有数据已保存到output_data.json\n"
     ]
    }
   ],
   "source": [
    "import openai\n",
    "import json\n",
    "import time\n",
    "from concurrent.futures import ThreadPoolExecutor, as_completed\n",
    "from openai import OpenAI\n",
    "from pl_tools import pl_prompt\n",
    "\n",
    "# Retry logic function\n",
    "def call_openai_with_retry(client, pro, max_retries=3):\n",
    "    retries = 0\n",
    "    while retries < max_retries:\n",
    "        try:\n",
    "            response = client.chat.completions.create(\n",
    "                model=\"deepseek-chat\", \n",
    "                messages=[{\"role\": \"system\", \"content\": \"You are a helpful assistant\"},\n",
    "                          {\"role\": \"user\", \"content\": pl_prompt.pl_prompt_0.format(new_problem=pro)}],   \n",
    "                max_tokens=800,\n",
    "                stream=False\n",
    "            )\n",
    "            model_output = response.choices[0].message.content\n",
    "            result = {\n",
    "                \"problem\": pro,\n",
    "                \"model_output\": model_output\n",
    "            }\n",
    "            return result\n",
    "        except Exception as e:\n",
    "            print(f\"Error on attempt {retries + 1} for problem {pro}: {e}\")\n",
    "            retries += 1\n",
    "            time.sleep(2 ** retries)  # Exponential backoff\n",
    "    return None  # If retries are exhausted\n",
    "\n",
    "# Client initialization\n",
    "client = OpenAI(\n",
    "    api_key=\"sk-1c7bba5338bd45a9af5247e6f1521e5f\",\n",
    "    base_url=\"https://api.deepseek.com\"\n",
    ")\n",
    "\n",
    "# To store the results\n",
    "output_data = []\n",
    "\n",
    "# Create a ThreadPoolExecutor for parallel processing\n",
    "with ThreadPoolExecutor() as executor:\n",
    "    futures = []\n",
    "    \n",
    "    # Iterate through problems and reasoning_lengths to submit tasks\n",
    "    for pro in problems:\n",
    "        futures.append(executor.submit(call_openai_with_retry, client, pro))\n",
    "\n",
    "    # Collect results as they are completed\n",
    "    for future in as_completed(futures):\n",
    "        result = future.result()\n",
    "        if result:\n",
    "            output_data.append(result)\n",
    "\n",
    "# Save the output to a JSON file\n",
    "with open('llm_output_data_math_500.json', 'w', encoding='utf-8') as json_file:\n",
    "    json.dump(output_data, json_file, ensure_ascii=False, indent=4)\n",
    "\n",
    "print(\"所有数据已保存到output_data.json\")\n"
   ]
  }
 ],
 "metadata": {
  "kernelspec": {
   "display_name": "mathagent",
   "language": "python",
   "name": "python3"
  },
  "language_info": {
   "codemirror_mode": {
    "name": "ipython",
    "version": 3
   },
   "file_extension": ".py",
   "mimetype": "text/x-python",
   "name": "python",
   "nbconvert_exporter": "python",
   "pygments_lexer": "ipython3",
   "version": "3.9.19"
  }
 },
 "nbformat": 4,
 "nbformat_minor": 2
}
