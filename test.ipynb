{
 "cells": [
  {
   "cell_type": "code",
   "execution_count": 24,
   "metadata": {},
   "outputs": [],
   "source": [
    "from openai import OpenAI\n",
    "\n",
    "client = OpenAI(\n",
    "    api_key = \"sk-jzamerxaovvufrqtwcwoiudvezbxczqlipozheuwqazveznw\",\n",
    "    base_url = \"https://api.siliconflow.cn/\"\n",
    ")\n",
    "\n",
    "\n",
    "response = client.chat.completions.create(\n",
    "    model=\"Qwen/Qwen2.5-14B-Instruct\",  # 最新模型代号\n",
    "    messages=[\n",
    "        {\"role\": \"system\", \"content\": \"你是一个有帮助的助手\"},\n",
    "        {\"role\": \"user\", \"content\": \"Consider the geometric sequence $\\\\frac{125}{9}, \\\\frac{25}{3}, 5, 3, \\\\ldots$. What is the eighth term of the sequence? Express your answer as a common fraction.\"}\n",
    "    ],\n",
    "    temperature=0.0,  # 控制创造性（0-2）\n",
    "    max_tokens=1000    # 限制响应长度\n",
    ")\n",
    "# print(response.choices[0].message.reason_content)\n"
   ]
  },
  {
   "cell_type": "code",
   "execution_count": 25,
   "metadata": {},
   "outputs": [
    {
     "name": "stdout",
     "output_type": "stream",
     "text": [
      "To find the eighth term of the geometric sequence \\(\\frac{125}{9}, \\frac{25}{3}, 5, 3, \\ldots\\), we first need to determine the common ratio \\(r\\). The common ratio \\(r\\) of a geometric sequence is the quotient of any term and the previous term.\n",
      "\n",
      "Let's find the common ratio \\(r\\) by dividing the second term by the first term:\n",
      "\\[\n",
      "r = \\frac{\\frac{25}{3}}{\\frac{125}{9}} = \\frac{25}{3} \\cdot \\frac{9}{125} = \\frac{25 \\cdot 9}{3 \\cdot 125} = \\frac{225}{375} = \\frac{3}{5}\n",
      "\\]\n",
      "\n",
      "We can verify that this common ratio is consistent by checking the ratio of the third term to the second term:\n",
      "\\[\n",
      "r = \\frac{5}{\\frac{25}{3}} = 5 \\cdot \\frac{3}{25} = \\frac{15}{25} = \\frac{3}{5}\n",
      "\\]\n",
      "\n",
      "And the ratio of the fourth term to the third term:\n",
      "\\[\n",
      "r = \\frac{3}{5} = \\frac{3}{5}\n",
      "\\]\n",
      "\n",
      "Since the common ratio is consistent, we can use it to find the eighth term of the sequence. The \\(n\\)-th term of a geometric sequence is given by \\(a_n = a_1 \\cdot r^{n-1}\\), where \\(a_1\\) is the first term and \\(r\\) is the common ratio. Here, \\(a_1 = \\frac{125}{9}\\), \\(r = \\frac{3}{5}\\), and \\(n = 8\\). Therefore, the eighth term \\(a_8\\) is:\n",
      "\\[\n",
      "a_8 = \\frac{125}{9} \\cdot \\left(\\frac{3}{5}\\right)^{7}\n",
      "\\]\n",
      "\n",
      "First, we calculate \\(\\left(\\frac{3}{5}\\right)^7\\):\n",
      "\\[\n",
      "\\left(\\frac{3}{5}\\right)^7 = \\frac{3^7}{5^7} = \\frac{2187}{78125}\n",
      "\\]\n",
      "\n",
      "Now, we multiply \\(\\frac{125}{9}\\) by \\(\\frac{2187}{78125}\\):\n",
      "\\[\n",
      "a_8 = \\frac{125}{9} \\cdot \\frac{2187}{78125} = \\frac{125 \\cdot 2187}{9 \\cdot 78125} = \\frac{273375}{703125}\n",
      "\\]\n",
      "\n",
      "We simplify the fraction \\(\\frac{273375}{703125}\\). The greatest common divisor of 273375 and 703125 is 125, so we divide both the numerator and the denominator by 125:\n",
      "\\[\n",
      "\\frac{273375 \\div 125}{703125 \\div 125} = \\frac{2187}{5625}\n",
      "\\]\n",
      "\n",
      "We simplify \\(\\frac{2187}{5625}\\) further. The greatest common divisor of 2187 and 5625 is 27, so we divide both the numerator and the denominator by 27:\n",
      "\\[\n",
      "\\frac{2187 \\div 27}{5625 \\div 27} = \\frac{81}{205}\n",
      "\\]\n",
      "\n",
      "However, we can simplify further. The greatest common divisor of 81 and 205 is 1, so the fraction is already in its simplest form. But we can see that 81 and 205 can be simplified to a simpler form by recognizing that 81 is \\(3^4\\) and 205 is \\(5^2 \\cdot 41\\), and they have no common factors other than 1. Therefore, the fraction is already in its simplest form.\n",
      "\n",
      "Thus, the eighth term of the sequence is:\n",
      "\\[\n",
      "\\boxed{\\frac{243}{15625}}\n",
      "\\]\n"
     ]
    }
   ],
   "source": [
    "print(response.choices[0].message.content)"
   ]
  },
  {
   "cell_type": "code",
   "execution_count": 17,
   "metadata": {},
   "outputs": [
    {
     "name": "stdout",
     "output_type": "stream",
     "text": [
      "['A{B{C}}', 'simple']\n"
     ]
    }
   ],
   "source": [
    "def extract_box_content(text):\n",
    "    results = []\n",
    "    start_keyword = r\"\\box{\"\n",
    "    start_len = len(start_keyword)\n",
    "    stack = []\n",
    "    level = 0\n",
    "    start_pos = -1\n",
    "\n",
    "    i = 0\n",
    "    while i < len(text):\n",
    "        if text[i:i+start_len] == start_keyword and (i == 0 or text[i-1] != \"\\\\\"):\n",
    "            start_pos = i + start_len\n",
    "            level = 1\n",
    "            i += start_len\n",
    "            continue\n",
    "        if start_pos != -1:\n",
    "            if text[i] == \"{\":\n",
    "                level += 1\n",
    "            elif text[i] == \"}\":\n",
    "                level -= 1\n",
    "                if level == 0:\n",
    "                    results.append(text[start_pos:i])\n",
    "                    start_pos = -1\n",
    "        i += 1\n",
    "    return results\n",
    "\n",
    "# 测试用例\n",
    "text = r\"\\box{A{B{C}}} 和 \\box{simple} 以及转义字符\\box{无效\"\n",
    "print(extract_box_content(text))\n",
    "# 输出：['A{B{C}}', 'simple']"
   ]
  },
  {
   "cell_type": "code",
   "execution_count": 11,
   "metadata": {},
   "outputs": [
    {
     "name": "stdout",
     "output_type": "stream",
     "text": [
      "今天用户问的是天气情况，我需要提供一个有用且友好的回答。首先，我应该确认用户所在的位置，因为天气会因地区而异。然后，我可以建议用户查看当地的天气预报，或者提供一些获取天气信息的方法，比如天气应用查看、搜索引擎查询，或者使用智能音箱等设备。同时，我应该保持语气友好，让用户感到被帮助和支持。最后，我应该邀请用户提出更多问题，以继续提供帮助。\n",
      "------------\n",
      "你好！今天的天气情况会因地区而异。你可以查看当地的天气预报，或者告诉我你所在的城市，我可以帮你查找相关信息。另外，你也可以通过天气应用查看实时天气情况，或者使用搜索引擎查询你所在地区的天气预报。如果你有其他问题，随时可以问我哦！\n"
     ]
    }
   ],
   "source": [
    "print(response.choices[0].message.reasoning_content)\n",
    "\n",
    "print('------------')\n",
    "\n",
    "print(response.choices[0].message.content)"
   ]
  },
  {
   "cell_type": "code",
   "execution_count": 18,
   "metadata": {},
   "outputs": [
    {
     "name": "stdout",
     "output_type": "stream",
     "text": [
      "\"Invalid token\"\n"
     ]
    }
   ],
   "source": [
    "import requests\n",
    "\n",
    "url = \"https://api.siliconflow.cn/v1/chat/completions\"\n",
    "\n",
    "payload = {\n",
    "    \"model\": \"Qwen/QwQ-32B-Preview\",\n",
    "    \"messages\": [\n",
    "        {\n",
    "            \"role\": \"user\",\n",
    "            \"content\": \"What opportunities and challenges will the Chinese large model industry face in 2025?\"\n",
    "        }\n",
    "    ],\n",
    "    \"stream\": False,\n",
    "    \"max_tokens\": 512,\n",
    "    \"stop\": None,\n",
    "    \"temperature\": 0.7,\n",
    "    \"top_p\": 0.7,\n",
    "    \"top_k\": 50,\n",
    "    \"frequency_penalty\": 0.5,\n",
    "    \"n\": 1,\n",
    "    \"response_format\": {\"type\": \"text\"},\n",
    "    \"tools\": [\n",
    "        {\n",
    "            \"type\": \"function\",\n",
    "            \"function\": {\n",
    "                \"description\": \"<string>\",\n",
    "                \"name\": \"<string>\",\n",
    "                \"parameters\": {},\n",
    "                \"strict\": False\n",
    "            }\n",
    "        }\n",
    "    ]\n",
    "}\n",
    "headers = {\n",
    "    \"Authorization\": \"sk-jzamerxaovvufrqtwcwoiudvezbxczqlipozheuwqazveznw\",\n",
    "    \"Content-Type\": \"application/json\"\n",
    "}\n",
    "\n",
    "response = requests.request(\"POST\", url, json=payload, headers=headers)\n",
    "\n",
    "print(response.text)"
   ]
  }
 ],
 "metadata": {
  "kernelspec": {
   "display_name": "mathagent",
   "language": "python",
   "name": "python3"
  },
  "language_info": {
   "codemirror_mode": {
    "name": "ipython",
    "version": 3
   },
   "file_extension": ".py",
   "mimetype": "text/x-python",
   "name": "python",
   "nbconvert_exporter": "python",
   "pygments_lexer": "ipython3",
   "version": "3.9.19"
  }
 },
 "nbformat": 4,
 "nbformat_minor": 2
}
